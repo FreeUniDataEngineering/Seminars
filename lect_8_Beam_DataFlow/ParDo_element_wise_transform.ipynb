{
 "cells": [
  {
   "cell_type": "markdown",
   "metadata": {
    "id": "pardo"
   },
   "source": [
    "# ParDo\n",
    "\n",
    "A transform for generic parallel processing.\n",
    "A `ParDo` transform considers each element in the input `PCollection`,\n",
    "performs some processing function (your user code) on that element,\n",
    "and emits zero or more elements to an output `PCollection`.\n",
    "\n",
    "See more information in the\n",
    "[Beam Programming Guide](https://beam.apache.org/documentation/programming-guide/#pardo)."
   ]
  },
  {
   "cell_type": "markdown",
   "metadata": {
    "id": "setup"
   },
   "source": [
    "## Setup\n",
    "\n",
    "First, let's install the `apache-beam` module."
   ]
  },
  {
   "cell_type": "code",
   "execution_count": null,
   "metadata": {
    "id": "setup-code"
   },
   "outputs": [],
   "source": [
    "!pip install --quiet -U apache-beam"
   ]
  },
  {
   "cell_type": "markdown",
   "metadata": {
    "id": "examples"
   },
   "source": [
    "## Examples\n",
    "\n",
    "In the following examples, we explore how to create custom `DoFn`s and access\n",
    "the timestamp and windowing information."
   ]
  },
  {
   "cell_type": "markdown",
   "metadata": {
    "id": "example-1-pardo-with-a-simple-dofn"
   },
   "source": [
    "### Example 1: ParDo with a simple DoFn\n",
    "\n",
    "The following example defines a simple `DoFn` class called `SplitWords`\n",
    "which stores the `delimiter` as an object field.\n",
    "The `process` method is called once per element,\n",
    "and it can yield zero or more output elements."
   ]
  },
  {
   "cell_type": "code",
   "execution_count": null,
   "metadata": {
    "id": "example-1-pardo-with-a-simple-dofn-code"
   },
   "outputs": [],
   "source": [
    "import apache_beam as beam\n",
    "\n",
    "class SplitWords(beam.DoFn):\n",
    "  def __init__(self, delimiter=','):\n",
    "    self.delimiter = delimiter\n",
    "\n",
    "  def process(self, text):\n",
    "    for word in text.split(self.delimiter):\n",
    "      yield word\n",
    "\n",
    "with beam.Pipeline() as pipeline:\n",
    "  plants = (\n",
    "      pipeline\n",
    "      | 'Gardening plants' >> beam.Create([\n",
    "          '🍓Strawberry,🥕Carrot,🍆Eggplant',\n",
    "          '🍅Tomato,🥔Potato',\n",
    "      ])\n",
    "      | 'Split words' >> beam.ParDo(SplitWords(','))\n",
    "      | beam.Map(print))"
   ]
  },
  {
   "cell_type": "markdown",
   "metadata": {
    "id": "related-transforms"
   },
   "source": [
    "## Related transforms\n",
    "\n",
    "* [Map](https://beam.apache.org/documentation/transforms/python/elementwise/map) behaves the same, but produces exactly one output for each input.\n",
    "* [FlatMap](https://beam.apache.org/documentation/transforms/python/elementwise/flatmap) behaves the same as `Map`,\n",
    "  but for each input it may produce zero or more outputs.\n",
    "* [Filter](https://beam.apache.org/documentation/transforms/python/elementwise/filter) is useful if the function is just\n",
    "  deciding whether to output an element or not.\n"
   ]
  }
 ],
 "metadata": {
  "colab": {
   "name": "ParDo - element-wise transform",
   "provenance": [],
   "toc_visible": true
  },
  "kernelspec": {
   "display_name": "Python 3 (ipykernel)",
   "language": "python",
   "name": "python3"
  },
  "language_info": {
   "codemirror_mode": {
    "name": "ipython",
    "version": 3
   },
   "file_extension": ".py",
   "mimetype": "text/x-python",
   "name": "python",
   "nbconvert_exporter": "python",
   "pygments_lexer": "ipython3",
   "version": "3.7.9"
  }
 },
 "nbformat": 4,
 "nbformat_minor": 1
}
